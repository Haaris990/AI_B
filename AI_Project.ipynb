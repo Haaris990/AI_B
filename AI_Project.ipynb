{
 "cells": [
  {
   "cell_type": "markdown",
   "id": "0c6f91dc",
   "metadata": {},
   "source": [
    "# Introduction"
   ]
  },
  {
   "cell_type": "markdown",
   "id": "2f78f420",
   "metadata": {},
   "source": [
    "The 19th Century Travel Journal from the University of Glasgow Special Collections serves as a captivating window into the past, offering insights into the journeys, experiences, and perceptions of travelers during the 1800s.This travel journal, written by a wealthy Scottish man, documents his travels to the South of France including many captivating illustrations to match the entries into the journal. \n",
    "Handwritten and often difficult to decipher, this journal holds invaluable historical and cultural significance, yet its accessibility to the broader public is limited due to the barrier of handwritten text.\n",
    "I will aim to leverage generative AI, specifically handwriting recognition technology, to transcribe and digitise the content of the 19th Century Travel Journal. By doing so, I intend to make the narratives contained within these journals more accessible and comprehensible to a wider audience, thereby fostering engagement with our cultural heritage.\n",
    "\n"
   ]
  },
  {
   "cell_type": "markdown",
   "id": "43b9c832",
   "metadata": {},
   "source": [
    "# Methodology"
   ]
  },
  {
   "cell_type": "markdown",
   "id": "a21ec094",
   "metadata": {},
   "source": [
    "My design will incorporate generative AI by utilising advanced machine learning techniques to develop a handwriting recognition model. This model can be trained on a dataset of handwritten text samples, learning to recognise patterns and characters in various handwriting styles.\n",
    "The model architecture typically consists of convolutional neural networks for feature extraction and recurrent neural networks or transformer-based models for sequence modeling and decoding.\n",
    "Training data for the handwriting recognition model would include images of handwritten text along with their corresponding labels (the transcribed text). The model learns to map input images to output text sequences during the training process.\n",
    "\n",
    "Humans play a crucial role in the training and validation of the handwriting recognition model. I will curate and annotate the training dataset, ensuring that it contains diverse handwriting styles and variations. Once the model is trained, I will verify and correct any errors in the transcribed text, providing feedback to improve the model's accuracy and performance.\n",
    "\n",
    "By leveraging generative AI models for handwriting recognition, I can automate the process of transcribing handwritten content from the 19th Century Travel Journal. This significantly reduces the time and effort required for manual transcription, making the journal's content more accessible to a wider audience. The handwriting recognition model is appropriate for the proposed objective because it can accurately interpret various handwriting styles and nuances, ensuring high-quality transcriptions of the journal's content.\n",
    "\n",
    "Shown below is a simplified example of the Keras example for handwriting recognition:"
   ]
  },
  {
   "cell_type": "code",
   "execution_count": null,
   "id": "e994a8b7",
   "metadata": {},
   "outputs": [],
   "source": [
    "import numpy as np\n",
    "from tensorflow import keras\n",
    "from tensorflow.keras import layers\n",
    "\n",
    "# Define the model architecture\n",
    "input_shape = (image_height, image_width, 1)\n",
    "num_classes = num_characters + 1\n",
    "\n",
    "model = keras.Sequential(\n",
    "    [\n",
    "        layers.Input(shape=input_shape),\n",
    "        # Convolutional layers for feature extraction\n",
    "        layers.Conv2D(32, (3, 3), activation=\"relu\"),\n",
    "        layers.MaxPooling2D(pool_size=(2, 2)),\n",
    "        layers.Conv2D(64, (3, 3), activation=\"relu\"),\n",
    "        layers.MaxPooling2D(pool_size=(2, 2)),\n",
    "        # Flatten layer\n",
    "        layers.Flatten(),\n",
    "        # Fully connected layers\n",
    "        layers.Dense(128, activation=\"relu\"),\n",
    "        layers.Dropout(0.5),\n",
    "        layers.Dense(num_classes, activation=\"softmax\"),\n",
    "    ]\n",
    ")\n",
    "\n",
    "# Compile the model\n",
    "model.compile(loss=\"categorical_crossentropy\", optimiser=\"adam\", metrics=[\"accuracy\"])\n",
    "\n",
    "# Train the model\n",
    "model.fit(x_train, y_train, batch_size=32, epochs=10, validation_split=0.1)\n",
    "\n",
    "# Evaluate the model\n",
    "accuracy = model.evaluate(x_test, y_test)\n",
    "print(\"Test Accuracy:\", accuracy)\n"
   ]
  },
  {
   "cell_type": "markdown",
   "id": "fc132368",
   "metadata": {},
   "source": [
    "In the above example, I have defined a convolutional neural network architecture for handwriting recognition. I train the model using a dataset of handwritten text images and their corresponding labels. The model learns to classify images into different characters, enabling it to transcribe handwritten content accurately."
   ]
  },
  {
   "cell_type": "markdown",
   "id": "d618b757",
   "metadata": {},
   "source": [
    "I will provide clear and well-commented code examples, explaining each step and rationale behind my design choices. The code will be structured and formatted for readability, with informative variable names and concise documentation.\n",
    "Demonstrations of AI tools and their outputs will be accompanied by explanations of the underlying concepts and algorithms, ensuring that the audience gains a deeper understanding of how these tools contribute to our project objectives.\n",
    "\n",
    "I will provide detailed explanations of each step in our methodology, from data preprocessing to model training and evaluation. This will include discussions of the datasets used, model architectures, and evaluation metrics.\n",
    "Collaborative efforts between AI models and human collaborators will be highlighted, emphasising the iterative process of training, validation, and refinement. I will discuss how human input and feedback improve the accuracy and relevance of AI-generated outputs.\n",
    "Throughout the presentation, I will relate back to the overarching objectives of our project, demonstrating how each step contributes to our goal of engaging the audience with the 19th Century Travel Journal and uncovering its cultural significance.\n",
    "\n",
    "I will enrich the narrative of our project by providing historical context and background information on the 19th Century Travel Journal. This may include discussing the socio-cultural trends of the era, notable historical figures, and advancements in travel and communication technologies.\n",
    "Examples and anecdotes from the journal itself will be used to illustrate key themes and insights uncovered during the transcription and interpretation process. This will help bring the historical narrative to life and foster a deeper connection with the journal's contents.\n",
    "I will also link our project to broader discussions in the arts and humanities, exploring topics such as the representation of history, the role of technology in preserving cultural heritage, and the ethics of AI-driven analysis and interpretation."
   ]
  },
  {
   "cell_type": "code",
   "execution_count": null,
   "id": "5bc192e3",
   "metadata": {},
   "outputs": [],
   "source": []
  }
 ],
 "metadata": {
  "kernelspec": {
   "display_name": "Python 3 (ipykernel)",
   "language": "python",
   "name": "python3"
  },
  "language_info": {
   "codemirror_mode": {
    "name": "ipython",
    "version": 3
   },
   "file_extension": ".py",
   "mimetype": "text/x-python",
   "name": "python",
   "nbconvert_exporter": "python",
   "pygments_lexer": "ipython3",
   "version": "3.11.4"
  }
 },
 "nbformat": 4,
 "nbformat_minor": 5
}
